{
  "nbformat": 4,
  "nbformat_minor": 0,
  "metadata": {
    "colab": {
      "provenance": [],
      "gpuType": "T4",
      "include_colab_link": true
    },
    "kernelspec": {
      "name": "python3",
      "display_name": "Python 3"
    },
    "language_info": {
      "name": "python"
    },
    "accelerator": "GPU"
  },
  "cells": [
    {
      "cell_type": "markdown",
      "metadata": {
        "id": "view-in-github",
        "colab_type": "text"
      },
      "source": [
        "<a href=\"https://colab.research.google.com/github/pingpm/camp/blob/main/notebooks/CosyVoice.ipynb\" target=\"_parent\"><img src=\"https://colab.research.google.com/assets/colab-badge.svg\" alt=\"Open In Colab\"/></a>"
      ]
    },
    {
      "cell_type": "code",
      "source": [
        "#@title 一键运行 CosyVoice\n",
        "!git clone --recursive https://github.com/KevinWang676/CosyVoice.git\n",
        "%cd CosyVoice\n",
        "!pip install -r requirements.txt\n",
        "!mkdir -p pretrained_models\n",
        "!git clone https://www.modelscope.cn/iic/CosyVoice-300M.git pretrained_models/CosyVoice-300M\n",
        "!export PYTHONPATH=third_party/Matcha-TTS\n",
        "!python3 webui_colab.py"
      ],
      "metadata": {
        "id": "lAEyVebGqnzS"
      },
      "execution_count": null,
      "outputs": []
    },
    {
      "cell_type": "code",
      "source": [],
      "metadata": {
        "id": "7FjBPnhPL8Pu"
      },
      "execution_count": null,
      "outputs": []
    }
  ]
}